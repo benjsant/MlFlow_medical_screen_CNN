{
 "cells": [
  {
   "cell_type": "markdown",
   "id": "1564b36e",
   "metadata": {},
   "source": [
    "![CAT_DOG](img/banniere.png)"
   ]
  },
  {
   "cell_type": "code",
   "execution_count": null,
   "id": "bec204ae",
   "metadata": {},
   "outputs": [],
   "source": [
    "# Import des dépendances python nécessaire \n",
    "\n",
    "import os\n",
    "import numpy as np\n",
    "import tensorflow as tf\n",
    "import matplotlib.pyplot as plt\n",
    "import cv2\n",
    "from keras import models, layers\n",
    "import seaborn as sns\n",
    "from sklearn.metrics import confusion_matrix, classification_report\n",
    "\n",
    "import mlflow\n",
    "from mlflow.models import infer_signature\n",
    "np.set_printoptions(linewidth=np.inf)\n",
    "np.set_printoptions(edgeitems=30) "
   ]
  }
 ],
 "metadata": {
  "kernelspec": {
   "display_name": ".venv",
   "language": "python",
   "name": "python3"
  },
  "language_info": {
   "name": "python",
   "version": "3.10.10"
  }
 },
 "nbformat": 4,
 "nbformat_minor": 5
}
