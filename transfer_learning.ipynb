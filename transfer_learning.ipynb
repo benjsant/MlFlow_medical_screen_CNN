{
 "cells": [
  {
   "cell_type": "markdown",
   "id": "1564b36e",
   "metadata": {},
   "source": [
    "![CAT_DOG](img/banniere.png)"
   ]
  },
  {
   "cell_type": "code",
   "execution_count": null,
   "id": "bec204ae",
   "metadata": {},
   "outputs": [],
   "source": [
    "# Import des dépendances python nécessaire \n",
    "\n",
    "import os\n",
    "import numpy as np\n",
    "import tensorflow as tf\n",
    "import matplotlib.pyplot as plt\n",
    "import cv2\n",
    "import seaborn as sns\n",
    "from sklearn.metrics import confusion_matrix, classification_report\n",
    "\n",
    "import mlflow\n",
    "from mlflow.models import infer_signature\n",
    "from tensorflow.keras.applications import EfficientNetB0\n",
    "from tensorflow.keras.models import Model\n",
    "from tensorflow.keras.layers import Input, Dense, GlobalAveragePooling2D, Dropout\n",
    "from tensorflow.keras.optimizers import Adam\n",
    "\n",
    "np.set_printoptions(linewidth=np.inf)\n",
    "np.set_printoptions(edgeitems=30) \n"
   ]
  },
  {
   "cell_type": "markdown",
   "id": "7a05fa36",
   "metadata": {},
   "source": [
    "# Exploration des données \n",
    "\n",
    "Ici nous allons simplement affciher une radio pour vérifier qu'on arrive à la lire. "
   ]
  },
  {
   "cell_type": "code",
   "execution_count": null,
   "id": "12655d3f",
   "metadata": {},
   "outputs": [],
   "source": [
    "# On charge une image depuis un chemin local, l’image est chargé en 1 canal (valeur de pixel de 0 à 255)\n",
    "img = cv2.imread(\"data/train/NORMAL/IM-0115-0001.jpeg\", cv2.IMREAD_GRAYSCALE)\n",
    "\n",
    "# Observer l'image sous forme de matrice\n",
    "#print(img)\n",
    "\n",
    "# Visualisation de l'image\n",
    "plt.imshow(img, cmap=\"gray\")\n",
    "plt.axis(\"off\")\n",
    "plt.show()\n",
    "\n",
    "# Inspection des métadonnées de l'image\n",
    "print(f\"Shape (dimensions)    : {img.shape}\")\n",
    "print(f\"Type des valeurs      : {img.dtype}\")\n"
   ]
  },
  {
   "cell_type": "markdown",
   "id": "d254ae18",
   "metadata": {},
   "source": [
    "Ici nous avons une radiographie qui est affich donc tout est bon \n",
    "\n",
    "# Préparation des données "
   ]
  },
  {
   "cell_type": "code",
   "execution_count": null,
   "id": "2b48db2a",
   "metadata": {},
   "outputs": [],
   "source": [
    "def get_train_test(base_path: str, img_size=(224,224)):\n",
    "    X = []  # liste pour stocker les images\n",
    "    y = []  # liste pour stocker les étiquettes correspondantes\n",
    "\n",
    "    # Dictionnaire pour mapper les étiquettes de chaînes à des entiers\n",
    "    label_map = {'NORMAL': 0, 'PNEUMONIA': 1}\n",
    "\n",
    "    # On parcourt les sous-dossiers du répertoire\n",
    "    for label in sorted(os.listdir(base_path)):\n",
    "        # On ignore les fichiers qui ne sont pas des dossiers de classes\n",
    "        if label not in label_map:\n",
    "            continue\n",
    "        label_path = os.path.join(base_path, label)\n",
    "\n",
    "        # On parcourt chaque image du dossier\n",
    "        for file_name in os.listdir(label_path):\n",
    "            file_path = os.path.join(label_path, file_name)\n",
    "            # Lecture de l'image en niveaux de gris\n",
    "            img = cv2.imread(file_path)\n",
    "            if img is None:\n",
    "                continue  # image illisible, on passe\n",
    "            \n",
    "            # Redimensionnement de l'image\n",
    "            img = cv2.resize(img, img_size)  # Redimensionner en 380x380 pixels\n",
    "            X.append(img)           # on ajoute l'image à la liste\n",
    "            y.append(label_map[label])  # on ajoute le label numérique\n",
    "\n",
    "    # Conversion des listes en tableaux NumPy\n",
    "    X = np.array(X)\n",
    "    y = np.array(y)\n",
    "\n",
    "    # Reshape pour les convolutions\n",
    "    X = X.reshape(X.shape[0], img_size[0], img_size[1], 3)  # (n_samples, height, width, channels)\n",
    "    return X, y\n",
    "\n",
    "X_train, y_train = get_train_test(\"data/train\")\n",
    "X_test, y_test = get_train_test(\"data/test\")\n",
    "X_valid, y_valid= get_train_test(\"data/val\")"
   ]
  },
  {
   "cell_type": "code",
   "execution_count": null,
   "id": "c57b6927",
   "metadata": {},
   "outputs": [],
   "source": [
    "# Vérification des données préparées\n",
    "for i in range(10):\n",
    "    plt.subplot(1, 10, i + 1)\n",
    "    plt.imshow(X_train[i], cmap=\"grey\")\n",
    "    plt.axis(\"off\")\n",
    "\n",
    "plt.show()"
   ]
  },
  {
   "cell_type": "markdown",
   "id": "20376f0f",
   "metadata": {},
   "source": [
    "les images sont corects, on continue "
   ]
  },
  {
   "cell_type": "code",
   "execution_count": null,
   "id": "331ca255",
   "metadata": {},
   "outputs": [],
   "source": [
    "# Test images aléatoire \n",
    "\n",
    "# Supposons que X_train est votre ensemble de données d'images\n",
    "# Nombre d'images à afficher\n",
    "num_images = 10\n",
    "\n",
    "# Sélectionner des indices aléatoires\n",
    "random_indices = np.random.choice(len(X_train), num_images, replace=False)\n",
    "\n",
    "# Vérification des données préparées\n",
    "plt.figure(figsize=(15, 5))  # Ajustez la taille de la figure si nécessaire\n",
    "for i, idx in enumerate(random_indices):\n",
    "    plt.subplot(1, num_images, i + 1)\n",
    "    plt.imshow(X_train[idx], cmap=\"grey\")\n",
    "    plt.axis(\"off\")\n",
    "\n",
    "plt.show()"
   ]
  },
  {
   "cell_type": "markdown",
   "id": "116feb66",
   "metadata": {},
   "source": [
    "# Preprocessing"
   ]
  },
  {
   "cell_type": "code",
   "execution_count": null,
   "id": "e63f14ee",
   "metadata": {},
   "outputs": [],
   "source": [
    "# # Les images sont au format (380, 380). On les convertit en float pour normaliser ensuite\n",
    "X_train = X_train.astype(\"float32\")\n",
    "X_test = X_test.astype(\"float32\")\n",
    "X_valid = X_valid.astype(\"float32\")\n",
    "\n",
    "# # Normalisation : on divise les valeurs de pixels par 255 pour les ramener entre 0 et 1\n",
    "X_train /= 255.0\n",
    "X_test /= 255.0\n",
    "X_valid /= 255.0\n",
    "\n",
    "# X_train = np.repeat(X_train, 3, axis=-1)  # Convertir en 3 canaux\n",
    "# X_test = np.repeat(X_test, 3, axis=-1)    # Convertir en 3 canaux\n",
    "# X_valid = np.repeat(X_valid, 3, axis=-1)    # Convertir en 3 canaux"
   ]
  },
  {
   "cell_type": "markdown",
   "id": "ca7e18e2",
   "metadata": {},
   "source": [
    "# Création modele "
   ]
  },
  {
   "cell_type": "code",
   "execution_count": null,
   "id": "3379a824",
   "metadata": {},
   "outputs": [],
   "source": [
    "# definition taille image pour model \n",
    "\n",
    "input_shape= (224,224,3)\n",
    "inputs= Input(shape=input_shape)\n",
    "# modele de base pour EfficientNetB4 \n",
    "base = EfficientNetB0(include_top=False, input_tensor=inputs, weights='imagenet')\n",
    "base.trainable = False  # Freeze"
   ]
  },
  {
   "cell_type": "code",
   "execution_count": null,
   "id": "4cc8b68d",
   "metadata": {},
   "outputs": [],
   "source": [
    "# Ajoute featues efficient \n",
    "features = base.output\n",
    "features = GlobalAveragePooling2D()(features)\n",
    "features = Dropout(0.4)(features)\n",
    "features = Dense(128, activation='relu')(features)\n",
    "features = Dropout(0.3)(features)\n",
    "\n",
    "outputs= Dense(1, activation='sigmoid')(features)"
   ]
  },
  {
   "cell_type": "code",
   "execution_count": null,
   "id": "1c6ba3fa",
   "metadata": {},
   "outputs": [],
   "source": [
    "# création model \n",
    "\n",
    "model = Model(inputs=inputs, outputs=outputs)\n",
    "\n",
    "#compilation \n",
    "model.compile(optimizer='adam',\n",
    "              loss='binary_crossentropy',\n",
    "              metrics=['accuracy'])\n",
    "\n",
    "# Entraînement\n",
    "model.fit(X_train, y_train, validation_data=(X_valid, y_valid), epochs=5, batch_size=16)\n",
    "#model.summary()"
   ]
  },
  {
   "cell_type": "code",
   "execution_count": null,
   "id": "0315e437",
   "metadata": {},
   "outputs": [],
   "source": [
    "\n",
    "base.trainable = True\n",
    "model.compile(optimizer='adam', loss='binary_crossentropy', metrics=['accuracy'])\n",
    "model.fit(\n",
    "    X_train,y_train,\n",
    "    validation_data=(X_valid, y_valid),\n",
    "    batch_size=32,\n",
    "    epochs=10,\n",
    "    shuffle=True\n",
    "          )"
   ]
  }
 ],
 "metadata": {
  "kernelspec": {
   "display_name": ".venv",
   "language": "python",
   "name": "python3"
  },
  "language_info": {
   "codemirror_mode": {
    "name": "ipython",
    "version": 3
   },
   "file_extension": ".py",
   "mimetype": "text/x-python",
   "name": "python",
   "nbconvert_exporter": "python",
   "pygments_lexer": "ipython3",
   "version": "3.10.10"
  }
 },
 "nbformat": 4,
 "nbformat_minor": 5
}
